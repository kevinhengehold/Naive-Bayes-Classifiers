{
 "cells": [
  {
   "cell_type": "code",
   "execution_count": 1,
   "metadata": {},
   "outputs": [],
   "source": [
    "import nltk\n",
    "import pandas as pd\n",
    "from nltk.corpus import stopwords\n",
    "from emot.emo_unicode import UNICODE_EMO, EMOTICONS"
   ]
  },
  {
   "cell_type": "code",
   "execution_count": 2,
   "metadata": {},
   "outputs": [],
   "source": [
    "#import sys\n",
    "#sys.path.append('C:\\\\Users\\\\kevin\\\\AppData\\\\Local\\\\Programs\\\\Python\\\\Python38\\\\Scripts')"
   ]
  },
  {
   "cell_type": "code",
   "execution_count": 2,
   "metadata": {},
   "outputs": [],
   "source": [
    "stop_words = list(set(stopwords.words('english')))"
   ]
  },
  {
   "cell_type": "code",
   "execution_count": 4,
   "metadata": {},
   "outputs": [],
   "source": [
    "col_names = [\"Sentiment\", \"Tweet_ID\", \"Date\", \"Query\", \"Handle\", \"Text\"]\n",
    "tweet_df = pd.read_csv(\"C:\\\\Users\\\\kevin\\\\Documents\\\\jupyter notebooks\\\\twitter\\\\sentiment training data\\\\training.1600000.processed.noemoticon.csv\", names=col_names, encoding='ISO-8859-1')"
   ]
  },
  {
   "cell_type": "code",
   "execution_count": 5,
   "metadata": {},
   "outputs": [
    {
     "data": {
      "text/html": [
       "<div>\n",
       "<style scoped>\n",
       "    .dataframe tbody tr th:only-of-type {\n",
       "        vertical-align: middle;\n",
       "    }\n",
       "\n",
       "    .dataframe tbody tr th {\n",
       "        vertical-align: top;\n",
       "    }\n",
       "\n",
       "    .dataframe thead th {\n",
       "        text-align: right;\n",
       "    }\n",
       "</style>\n",
       "<table border=\"1\" class=\"dataframe\">\n",
       "  <thead>\n",
       "    <tr style=\"text-align: right;\">\n",
       "      <th></th>\n",
       "      <th>Sentiment</th>\n",
       "      <th>Tweet_ID</th>\n",
       "      <th>Date</th>\n",
       "      <th>Query</th>\n",
       "      <th>Handle</th>\n",
       "      <th>Text</th>\n",
       "    </tr>\n",
       "  </thead>\n",
       "  <tbody>\n",
       "    <tr>\n",
       "      <th>0</th>\n",
       "      <td>0</td>\n",
       "      <td>1467810369</td>\n",
       "      <td>Mon Apr 06 22:19:45 PDT 2009</td>\n",
       "      <td>NO_QUERY</td>\n",
       "      <td>_TheSpecialOne_</td>\n",
       "      <td>@switchfoot http://twitpic.com/2y1zl - Awww, t...</td>\n",
       "    </tr>\n",
       "    <tr>\n",
       "      <th>1</th>\n",
       "      <td>0</td>\n",
       "      <td>1467810672</td>\n",
       "      <td>Mon Apr 06 22:19:49 PDT 2009</td>\n",
       "      <td>NO_QUERY</td>\n",
       "      <td>scotthamilton</td>\n",
       "      <td>is upset that he can't update his Facebook by ...</td>\n",
       "    </tr>\n",
       "    <tr>\n",
       "      <th>2</th>\n",
       "      <td>0</td>\n",
       "      <td>1467810917</td>\n",
       "      <td>Mon Apr 06 22:19:53 PDT 2009</td>\n",
       "      <td>NO_QUERY</td>\n",
       "      <td>mattycus</td>\n",
       "      <td>@Kenichan I dived many times for the ball. Man...</td>\n",
       "    </tr>\n",
       "    <tr>\n",
       "      <th>3</th>\n",
       "      <td>0</td>\n",
       "      <td>1467811184</td>\n",
       "      <td>Mon Apr 06 22:19:57 PDT 2009</td>\n",
       "      <td>NO_QUERY</td>\n",
       "      <td>ElleCTF</td>\n",
       "      <td>my whole body feels itchy and like its on fire</td>\n",
       "    </tr>\n",
       "    <tr>\n",
       "      <th>4</th>\n",
       "      <td>0</td>\n",
       "      <td>1467811193</td>\n",
       "      <td>Mon Apr 06 22:19:57 PDT 2009</td>\n",
       "      <td>NO_QUERY</td>\n",
       "      <td>Karoli</td>\n",
       "      <td>@nationwideclass no, it's not behaving at all....</td>\n",
       "    </tr>\n",
       "  </tbody>\n",
       "</table>\n",
       "</div>"
      ],
      "text/plain": [
       "   Sentiment    Tweet_ID                          Date     Query  \\\n",
       "0          0  1467810369  Mon Apr 06 22:19:45 PDT 2009  NO_QUERY   \n",
       "1          0  1467810672  Mon Apr 06 22:19:49 PDT 2009  NO_QUERY   \n",
       "2          0  1467810917  Mon Apr 06 22:19:53 PDT 2009  NO_QUERY   \n",
       "3          0  1467811184  Mon Apr 06 22:19:57 PDT 2009  NO_QUERY   \n",
       "4          0  1467811193  Mon Apr 06 22:19:57 PDT 2009  NO_QUERY   \n",
       "\n",
       "            Handle                                               Text  \n",
       "0  _TheSpecialOne_  @switchfoot http://twitpic.com/2y1zl - Awww, t...  \n",
       "1    scotthamilton  is upset that he can't update his Facebook by ...  \n",
       "2         mattycus  @Kenichan I dived many times for the ball. Man...  \n",
       "3          ElleCTF    my whole body feels itchy and like its on fire   \n",
       "4           Karoli  @nationwideclass no, it's not behaving at all....  "
      ]
     },
     "execution_count": 5,
     "metadata": {},
     "output_type": "execute_result"
    }
   ],
   "source": [
    "tweet_df.head()"
   ]
  },
  {
   "cell_type": "code",
   "execution_count": 6,
   "metadata": {},
   "outputs": [
    {
     "data": {
      "text/plain": [
       "<matplotlib.axes._subplots.AxesSubplot at 0x24503d54040>"
      ]
     },
     "execution_count": 6,
     "metadata": {},
     "output_type": "execute_result"
    },
    {
     "data": {
      "image/png": "[encoded data removed]",
      "text/plain": [
       "<Figure size 432x288 with 1 Axes>"
      ]
     },
     "metadata": {
      "needs_background": "light"
     },
     "output_type": "display_data"
    }
   ],
   "source": [
    "tweet_df[['Sentiment']].plot.hist(bins=5, title=\"Sentiments of Tweets\")"
   ]
  },
  {
   "cell_type": "code",
   "execution_count": 7,
   "metadata": {},
   "outputs": [
    {
     "data": {
      "text/plain": [
       "4    800000\n",
       "0    800000\n",
       "Name: Sentiment, dtype: int64"
      ]
     },
     "execution_count": 7,
     "metadata": {},
     "output_type": "execute_result"
    }
   ],
   "source": [
    "tweet_df['Sentiment'].value_counts()"
   ]
  },
  {
   "cell_type": "code",
   "execution_count": 8,
   "metadata": {},
   "outputs": [],
   "source": [
    "import re"
   ]
  },
  {
   "cell_type": "code",
   "execution_count": 10,
   "metadata": {},
   "outputs": [],
   "source": [
    "#remove mentions of other twitter handles\n",
    "preprocess_list = []\n",
    "tweet_preprocessed = ''\n",
    "\n",
    "for text in tweet_df['Text']:\n",
    "    #remove mentions of other twitter handles\n",
    "    tweet_preprocessed = re.sub(r'(^|[^@\\w])@(\\w{1,15})\\b', '', text)\n",
    "    #remove hashtags\n",
    "    tweet_preprocessed = re.sub(r'(^|[^#\\w])#\\w\\b', '', tweet_preprocessed)\n",
    "    #remove urls starting with http or https\n",
    "    tweet_preprocessed = re.sub(r'https{0,1}:\\/\\/\\S*', '', tweet_preprocessed)\n",
    "    #replace emojis with text\n",
    "    for emot in UNICODE_EMO:\n",
    "        tweet_preprocessed = tweet_preprocessed.replace(emot, \"_\".join(UNICODE_EMO[emot].replace(\",\",\"\").replace(\":\",\"\").split()))\n",
    "    \n",
    "    \n",
    "    preprocess_list.append(tweet_preprocessed)\n",
    "    \n",
    "tweet_df['Preprocessed Text'] = preprocess_list\n",
    "\n",
    "\n",
    "\n",
    "\n"
   ]
  },
  {
   "cell_type": "code",
   "execution_count": 3,
   "metadata": {},
   "outputs": [],
   "source": [
    "#write this to a csv so we can start with it next time\n",
    "#tweet_df.to_csv(r'path\\to\\file\\preprocessed tweets 1_6M.csv', index=False)\n",
    "\n",
    "#use this line if you've already preprocessed the text and can pull it from an existing csv. \n",
    "#tweet_df = pd.read_csv(r'path\\to\\file\\preprocessed tweets 1_6M.csv')"
   ]
  },
  {
   "cell_type": "markdown",
   "metadata": {},
   "source": [
    "###Look for preprocessed text that's nan.  if it exists, get rid of it. "
   ]
  },
  {
   "cell_type": "code",
   "execution_count": 22,
   "metadata": {},
   "outputs": [
    {
     "data": {
      "text/plain": [
       "0.99999375"
      ]
     },
     "execution_count": 22,
     "metadata": {},
     "output_type": "execute_result"
    }
   ],
   "source": [
    "tweet_df['Preprocessed Text'].count()/len(tweet_df['Preprocessed Text'])"
   ]
  },
  {
   "cell_type": "code",
   "execution_count": 24,
   "metadata": {},
   "outputs": [],
   "source": [
    "tweet_df = tweet_df[tweet_df['Preprocessed Text'].notna()]"
   ]
  },
  {
   "cell_type": "code",
   "execution_count": 25,
   "metadata": {},
   "outputs": [
    {
     "data": {
      "text/plain": [
       "1.0"
      ]
     },
     "execution_count": 25,
     "metadata": {},
     "output_type": "execute_result"
    }
   ],
   "source": [
    "tweet_df['Preprocessed Text'].count()/len(tweet_df['Preprocessed Text'])"
   ]
  },
  {
   "cell_type": "code",
   "execution_count": 4,
   "metadata": {},
   "outputs": [
    {
     "data": {
      "text/html": [
       "<div>\n",
       "<style scoped>\n",
       "    .dataframe tbody tr th:only-of-type {\n",
       "        vertical-align: middle;\n",
       "    }\n",
       "\n",
       "    .dataframe tbody tr th {\n",
       "        vertical-align: top;\n",
       "    }\n",
       "\n",
       "    .dataframe thead th {\n",
       "        text-align: right;\n",
       "    }\n",
       "</style>\n",
       "<table border=\"1\" class=\"dataframe\">\n",
       "  <thead>\n",
       "    <tr style=\"text-align: right;\">\n",
       "      <th></th>\n",
       "      <th>Sentiment</th>\n",
       "      <th>Tweet_ID</th>\n",
       "      <th>Date</th>\n",
       "      <th>Query</th>\n",
       "      <th>Handle</th>\n",
       "      <th>Text</th>\n",
       "      <th>Preprocessed Text</th>\n",
       "    </tr>\n",
       "  </thead>\n",
       "  <tbody>\n",
       "    <tr>\n",
       "      <th>0</th>\n",
       "      <td>0</td>\n",
       "      <td>1467810369</td>\n",
       "      <td>Mon Apr 06 22:19:45 PDT 2009</td>\n",
       "      <td>NO_QUERY</td>\n",
       "      <td>_TheSpecialOne_</td>\n",
       "      <td>@switchfoot http://twitpic.com/2y1zl - Awww, t...</td>\n",
       "      <td>- Awww, that's a bummer.  You shoulda got Da...</td>\n",
       "    </tr>\n",
       "    <tr>\n",
       "      <th>1</th>\n",
       "      <td>0</td>\n",
       "      <td>1467810672</td>\n",
       "      <td>Mon Apr 06 22:19:49 PDT 2009</td>\n",
       "      <td>NO_QUERY</td>\n",
       "      <td>scotthamilton</td>\n",
       "      <td>is upset that he can't update his Facebook by ...</td>\n",
       "      <td>is upset that he can't update his Facebook by ...</td>\n",
       "    </tr>\n",
       "    <tr>\n",
       "      <th>2</th>\n",
       "      <td>0</td>\n",
       "      <td>1467810917</td>\n",
       "      <td>Mon Apr 06 22:19:53 PDT 2009</td>\n",
       "      <td>NO_QUERY</td>\n",
       "      <td>mattycus</td>\n",
       "      <td>@Kenichan I dived many times for the ball. Man...</td>\n",
       "      <td>I dived many times for the ball. Managed to s...</td>\n",
       "    </tr>\n",
       "    <tr>\n",
       "      <th>3</th>\n",
       "      <td>0</td>\n",
       "      <td>1467811184</td>\n",
       "      <td>Mon Apr 06 22:19:57 PDT 2009</td>\n",
       "      <td>NO_QUERY</td>\n",
       "      <td>ElleCTF</td>\n",
       "      <td>my whole body feels itchy and like its on fire</td>\n",
       "      <td>my whole body feels itchy and like its on fire</td>\n",
       "    </tr>\n",
       "    <tr>\n",
       "      <th>4</th>\n",
       "      <td>0</td>\n",
       "      <td>1467811193</td>\n",
       "      <td>Mon Apr 06 22:19:57 PDT 2009</td>\n",
       "      <td>NO_QUERY</td>\n",
       "      <td>Karoli</td>\n",
       "      <td>@nationwideclass no, it's not behaving at all....</td>\n",
       "      <td>no, it's not behaving at all. i'm mad. why am...</td>\n",
       "    </tr>\n",
       "  </tbody>\n",
       "</table>\n",
       "</div>"
      ],
      "text/plain": [
       "   Sentiment    Tweet_ID                          Date     Query  \\\n",
       "0          0  1467810369  Mon Apr 06 22:19:45 PDT 2009  NO_QUERY   \n",
       "1          0  1467810672  Mon Apr 06 22:19:49 PDT 2009  NO_QUERY   \n",
       "2          0  1467810917  Mon Apr 06 22:19:53 PDT 2009  NO_QUERY   \n",
       "3          0  1467811184  Mon Apr 06 22:19:57 PDT 2009  NO_QUERY   \n",
       "4          0  1467811193  Mon Apr 06 22:19:57 PDT 2009  NO_QUERY   \n",
       "\n",
       "            Handle                                               Text  \\\n",
       "0  _TheSpecialOne_  @switchfoot http://twitpic.com/2y1zl - Awww, t...   \n",
       "1    scotthamilton  is upset that he can't update his Facebook by ...   \n",
       "2         mattycus  @Kenichan I dived many times for the ball. Man...   \n",
       "3          ElleCTF    my whole body feels itchy and like its on fire    \n",
       "4           Karoli  @nationwideclass no, it's not behaving at all....   \n",
       "\n",
       "                                   Preprocessed Text  \n",
       "0    - Awww, that's a bummer.  You shoulda got Da...  \n",
       "1  is upset that he can't update his Facebook by ...  \n",
       "2   I dived many times for the ball. Managed to s...  \n",
       "3    my whole body feels itchy and like its on fire   \n",
       "4   no, it's not behaving at all. i'm mad. why am...  "
      ]
     },
     "execution_count": 4,
     "metadata": {},
     "output_type": "execute_result"
    }
   ],
   "source": [
    "tweet_df.head()"
   ]
  },
  {
   "cell_type": "markdown",
   "metadata": {},
   "source": [
    "#Naive Bayes with nltk"
   ]
  },
  {
   "cell_type": "code",
   "execution_count": 6,
   "metadata": {},
   "outputs": [],
   "source": [
    "\n",
    "import nltk"
   ]
  },
  {
   "cell_type": "code",
   "execution_count": 8,
   "metadata": {},
   "outputs": [],
   "source": [
    "def format_sentence(sent):\n",
    "  return({word: True for word in nltk.word_tokenize(sent)})"
   ]
  },
  {
   "cell_type": "code",
   "execution_count": 28,
   "metadata": {},
   "outputs": [],
   "source": [
    "pos_tweets_list = []\n",
    "neg_tweets_list = []\n",
    "\n",
    "for index, row in tweet_df.iterrows():\n",
    "    if row['Sentiment'] == 0:\n",
    "        neg_tweets_list.append([format_sentence(row['Preprocessed Text']), 'neg'])\n",
    "    elif row['Sentiment'] == 4:\n",
    "        pos_tweets_list.append([format_sentence(row['Preprocessed Text']), 'pos'])\n",
    "    else:\n",
    "        print(\"Row: \", str(index), \" is not positive or negative.\")"
   ]
  },
  {
   "cell_type": "code",
   "execution_count": 31,
   "metadata": {},
   "outputs": [
    {
     "data": {
      "text/plain": [
       "[{'Not': True,\n",
       "  'sure': True,\n",
       "  'what': True,\n",
       "  'they': True,\n",
       "  'are': True,\n",
       "  ',': True,\n",
       "  'only': True,\n",
       "  'that': True,\n",
       "  'PoS': True,\n",
       "  '!': True,\n",
       "  'As': True,\n",
       "  'much': True,\n",
       "  'as': True,\n",
       "  'I': True,\n",
       "  'want': True,\n",
       "  'to': True,\n",
       "  'dont': True,\n",
       "  'think': True,\n",
       "  'can': True,\n",
       "  'trade': True,\n",
       "  'away': True,\n",
       "  'company': True,\n",
       "  'assets': True,\n",
       "  'sorry': True,\n",
       "  'andy': True},\n",
       " 'neg']"
      ]
     },
     "execution_count": 31,
     "metadata": {},
     "output_type": "execute_result"
    }
   ],
   "source": [
    "neg_tweets_list[55]"
   ]
  },
  {
   "cell_type": "code",
   "execution_count": 33,
   "metadata": {},
   "outputs": [],
   "source": [
    "def split_docs(pos, neg, ratio):\n",
    "  train = pos[:int((1-ratio)*len(pos))] + neg[:int((1-ratio)*len(neg))]\n",
    "  test = pos[int((ratio)*len(pos)):] + neg[int((ratio)*len(neg)):]\n",
    "  return train, test"
   ]
  },
  {
   "cell_type": "code",
   "execution_count": 34,
   "metadata": {},
   "outputs": [],
   "source": [
    "Xy_train, Xy_test = split_docs(pos_tweets_list, neg_tweets_list, 0.2)"
   ]
  },
  {
   "cell_type": "code",
   "execution_count": 35,
   "metadata": {},
   "outputs": [],
   "source": [
    "from nltk.classify import NaiveBayesClassifier"
   ]
  },
  {
   "cell_type": "code",
   "execution_count": 36,
   "metadata": {},
   "outputs": [
    {
     "name": "stdout",
     "output_type": "stream",
     "text": [
      "Most Informative Features\n",
      "                saddened = True              neg : pos    =     85.7 : 1.0\n",
      "                    Poem = True              pos : neg    =     80.3 : 1.0\n",
      "             squarespace = True              neg : pos    =     75.2 : 1.0\n",
      "                     228 = True              neg : pos    =     49.7 : 1.0\n",
      "                     447 = True              neg : pos    =     46.1 : 1.0\n",
      "                     ftl = True              neg : pos    =     37.7 : 1.0\n",
      "                    Died = True              neg : pos    =     37.0 : 1.0\n",
      "             shareholder = True              pos : neg    =     36.3 : 1.0\n",
      "           Disappointing = True              neg : pos    =     33.0 : 1.0\n",
      "                    sadd = True              neg : pos    =     32.6 : 1.0\n"
     ]
    }
   ],
   "source": [
    "classifier = NaiveBayesClassifier.train(Xy_train)\n",
    "classifier.show_most_informative_features()"
   ]
  },
  {
   "cell_type": "code",
   "execution_count": 37,
   "metadata": {},
   "outputs": [],
   "source": [
    "from nltk.classify.util import accuracy"
   ]
  },
  {
   "cell_type": "code",
   "execution_count": 38,
   "metadata": {},
   "outputs": [
    {
     "name": "stdout",
     "output_type": "stream",
     "text": [
      "0.795966852943727\n"
     ]
    }
   ],
   "source": [
    "print(accuracy(classifier, Xy_test))"
   ]
  },
  {
   "cell_type": "markdown",
   "metadata": {},
   "source": [
    "#Naive Bayes with sklearn"
   ]
  },
  {
   "cell_type": "code",
   "execution_count": 42,
   "metadata": {},
   "outputs": [],
   "source": [
    "from sklearn.model_selection import train_test_split\n",
    "from sklearn.naive_bayes import MultinomialNB\n",
    "from sklearn.naive_bayes import ComplementNB\n",
    "from sklearn.naive_bayes import GaussianNB\n",
    "from sklearn.naive_bayes import BernoulliNB\n",
    "\n",
    "from sklearn.feature_extraction.text import CountVectorizer\n",
    "from nltk.tokenize import RegexpTokenizer\n",
    "\n",
    "from sklearn import metrics"
   ]
  },
  {
   "cell_type": "code",
   "execution_count": 43,
   "metadata": {},
   "outputs": [],
   "source": [
    "#try this one without stop_words.\n",
    "#cv = CountVectorizer(stop_words='english',ngram_range = (1,1),tokenizer = token.tokenize)\n",
    "\n",
    "token = RegexpTokenizer(r'[a-zA-Z0-9]+')\n",
    "cv = CountVectorizer(ngram_range = (1,1),tokenizer = token.tokenize)\n",
    "text_counts = cv.fit_transform(tweet_df['Preprocessed Text'])"
   ]
  },
  {
   "cell_type": "code",
   "execution_count": 44,
   "metadata": {},
   "outputs": [],
   "source": [
    "X_train, X_test, Y_train, Y_test = train_test_split(text_counts, tweet_df['Sentiment'], test_size=0.2, random_state=5)"
   ]
  },
  {
   "cell_type": "code",
   "execution_count": 46,
   "metadata": {},
   "outputs": [
    {
     "name": "stdout",
     "output_type": "stream",
     "text": [
      "MNB Accuracy: 78.26%\n",
      "CNB Accuracy: 78.26%\n",
      "BNB Accuracy: 77.78%\n"
     ]
    }
   ],
   "source": [
    "MNB = MultinomialNB()\n",
    "MNB.fit(X_train, Y_train)\n",
    "\n",
    "predicted = MNB.predict(X_test)\n",
    "mnb_accuracy_score = metrics.accuracy_score(predicted, Y_test)\n",
    "\n",
    "CNB = ComplementNB()\n",
    "CNB.fit(X_train, Y_train)\n",
    "\n",
    "cnb_accuracy_score = metrics.accuracy_score(CNB.predict(X_test),Y_test)\n",
    "\n",
    "BNB = BernoulliNB()\n",
    "BNB.fit(X_train, Y_train)\n",
    "\n",
    "bnb_accuracy_score = metrics.accuracy_score(BNB.predict(X_test), Y_test)\n",
    "\n",
    "\n",
    "print(str('MNB Accuracy: {:04.2f}'.format(mnb_accuracy_score*100))+'%')\n",
    "print(str('CNB Accuracy: {:4.2f}'.format(cnb_accuracy_score*100))+'%')\n",
    "print(str('BNB Accuracy: {:4.2f}'.format(bnb_accuracy_score*100))+'%')\n",
    "\n"
   ]
  },
  {
   "cell_type": "code",
   "execution_count": 49,
   "metadata": {},
   "outputs": [
    {
     "name": "stdout",
     "output_type": "stream",
     "text": [
      "Naive Bayes with Stopwords:\n",
      "MNB Accuracy: 76.91%\n",
      "CNB Accuracy: 76.91%\n",
      "BNB Accuracy: 77.01%\n"
     ]
    }
   ],
   "source": [
    "#try with stopwords\n",
    "cv = CountVectorizer(stop_words='english', ngram_range = (1,1),tokenizer = token.tokenize)\n",
    "text_counts = cv.fit_transform(tweet_df['Preprocessed Text'])\n",
    "\n",
    "X_train, X_test, Y_train, Y_test = train_test_split(text_counts, tweet_df['Sentiment'], test_size=0.2, random_state=5)\n",
    "\n",
    "MNB = MultinomialNB()\n",
    "MNB.fit(X_train, Y_train)\n",
    "predicted = MNB.predict(X_test)\n",
    "mnb_accuracy_score = metrics.accuracy_score(predicted, Y_test)\n",
    "\n",
    "CNB = ComplementNB()\n",
    "CNB.fit(X_train, Y_train)\n",
    "cnb_accuracy_score = metrics.accuracy_score(CNB.predict(X_test),Y_test)\n",
    "\n",
    "BNB = BernoulliNB()\n",
    "BNB.fit(X_train, Y_train)\n",
    "bnb_accuracy_score = metrics.accuracy_score(BNB.predict(X_test), Y_test)\n",
    "\n",
    "print('Naive Bayes with Stopwords:')\n",
    "print(str('MNB Accuracy: {:04.2f}'.format(mnb_accuracy_score*100))+'%')\n",
    "print(str('CNB Accuracy: {:4.2f}'.format(cnb_accuracy_score*100))+'%')\n",
    "print(str('BNB Accuracy: {:4.2f}'.format(bnb_accuracy_score*100))+'%')"
   ]
  },
  {
   "cell_type": "code",
   "execution_count": 52,
   "metadata": {},
   "outputs": [
    {
     "name": "stdout",
     "output_type": "stream",
     "text": [
      "Naive Bayes with bigrams:\n",
      "MNB Accuracy: 78.95%\n",
      "CNB Accuracy: 78.95%\n",
      "BNB Accuracy: 79.14%\n"
     ]
    }
   ],
   "source": [
    "#try with bigrams\n",
    "cv = CountVectorizer(ngram_range = (2,2),tokenizer = token.tokenize)\n",
    "text_counts = cv.fit_transform(tweet_df['Preprocessed Text'])\n",
    "\n",
    "X_train, X_test, Y_train, Y_test = train_test_split(text_counts, tweet_df['Sentiment'], test_size=0.2, random_state=5)\n",
    "\n",
    "MNB = MultinomialNB()\n",
    "MNB.fit(X_train, Y_train)\n",
    "predicted = MNB.predict(X_test)\n",
    "mnb_accuracy_score = metrics.accuracy_score(predicted, Y_test)\n",
    "\n",
    "CNB = ComplementNB()\n",
    "CNB.fit(X_train, Y_train)\n",
    "cnb_accuracy_score = metrics.accuracy_score(CNB.predict(X_test),Y_test)\n",
    "\n",
    "BNB = BernoulliNB()\n",
    "BNB.fit(X_train, Y_train)\n",
    "bnb_accuracy_score = metrics.accuracy_score(BNB.predict(X_test), Y_test)\n",
    "\n",
    "print('Naive Bayes with bigrams:')\n",
    "print(str('MNB Accuracy: {:04.2f}'.format(mnb_accuracy_score*100))+'%')\n",
    "print(str('CNB Accuracy: {:4.2f}'.format(cnb_accuracy_score*100))+'%')\n",
    "print(str('BNB Accuracy: {:4.2f}'.format(bnb_accuracy_score*100))+'%')"
   ]
  },
  {
   "cell_type": "code",
   "execution_count": 53,
   "metadata": {},
   "outputs": [
    {
     "name": "stdout",
     "output_type": "stream",
     "text": [
      "Naive Bayes with 1-grams, bigrams:\n",
      "MNB Accuracy: 80.34%\n",
      "CNB Accuracy: 80.34%\n",
      "BNB Accuracy: 79.90%\n"
     ]
    }
   ],
   "source": [
    "#try with 1-grams, bigrams\n",
    "cv = CountVectorizer(ngram_range = (1,2),tokenizer = token.tokenize)\n",
    "text_counts = cv.fit_transform(tweet_df['Preprocessed Text'])\n",
    "\n",
    "X_train, X_test, Y_train, Y_test = train_test_split(text_counts, tweet_df['Sentiment'], test_size=0.2, random_state=5)\n",
    "\n",
    "MNB = MultinomialNB()\n",
    "MNB.fit(X_train, Y_train)\n",
    "predicted = MNB.predict(X_test)\n",
    "mnb_accuracy_score = metrics.accuracy_score(predicted, Y_test)\n",
    "\n",
    "CNB = ComplementNB()\n",
    "CNB.fit(X_train, Y_train)\n",
    "cnb_accuracy_score = metrics.accuracy_score(CNB.predict(X_test),Y_test)\n",
    "\n",
    "BNB = BernoulliNB()\n",
    "BNB.fit(X_train, Y_train)\n",
    "bnb_accuracy_score = metrics.accuracy_score(BNB.predict(X_test), Y_test)\n",
    "\n",
    "print('Naive Bayes with 1-grams, bigrams:')\n",
    "print(str('MNB Accuracy: {:04.2f}'.format(mnb_accuracy_score*100))+'%')\n",
    "print(str('CNB Accuracy: {:4.2f}'.format(cnb_accuracy_score*100))+'%')\n",
    "print(str('BNB Accuracy: {:4.2f}'.format(bnb_accuracy_score*100))+'%')"
   ]
  },
  {
   "cell_type": "markdown",
   "metadata": {},
   "source": [
    "#Use TF-IDF to transform tweets. "
   ]
  },
  {
   "cell_type": "code",
   "execution_count": 54,
   "metadata": {},
   "outputs": [],
   "source": [
    "from sklearn.feature_extraction.text import TfidfVectorizer\n"
   ]
  },
  {
   "cell_type": "code",
   "execution_count": 56,
   "metadata": {},
   "outputs": [
    {
     "name": "stdout",
     "output_type": "stream",
     "text": [
      "Naive Bayes with Tf-idf, 1-grams:\n",
      "MNB Accuracy: 77.67%\n",
      "CNB Accuracy: 77.66%\n",
      "BNB Accuracy: 77.78%\n"
     ]
    }
   ],
   "source": [
    "tfidf = TfidfVectorizer(ngram_range = (1,1),tokenizer = token.tokenize)\n",
    "text_count_2 = tfidf.fit_transform(tweet_df['Preprocessed Text'])\n",
    "\n",
    "x_train, x_test, y_train, y_test = train_test_split(text_count_2, tweet_df['Sentiment'],test_size=0.2,random_state=5)\n",
    "\n",
    "MNB = MultinomialNB()\n",
    "MNB.fit(x_train, y_train)\n",
    "predicted = MNB.predict(x_test)\n",
    "mnb_accuracy_score = metrics.accuracy_score(predicted, y_test)\n",
    "\n",
    "CNB = ComplementNB()\n",
    "CNB.fit(x_train, y_train)\n",
    "cnb_accuracy_score = metrics.accuracy_score(CNB.predict(x_test),y_test)\n",
    "\n",
    "BNB = BernoulliNB()\n",
    "BNB.fit(x_train, y_train)\n",
    "bnb_accuracy_score = metrics.accuracy_score(BNB.predict(x_test), y_test)\n",
    "\n",
    "print('Naive Bayes with Tf-idf, 1-grams:')\n",
    "print(str('MNB Accuracy: {:04.2f}'.format(mnb_accuracy_score*100))+'%')\n",
    "print(str('CNB Accuracy: {:4.2f}'.format(cnb_accuracy_score*100))+'%')\n",
    "print(str('BNB Accuracy: {:4.2f}'.format(bnb_accuracy_score*100))+'%')"
   ]
  },
  {
   "cell_type": "code",
   "execution_count": 57,
   "metadata": {},
   "outputs": [
    {
     "name": "stdout",
     "output_type": "stream",
     "text": [
      "Naive Bayes with Tf-idf, 1-grams, stop words:\n",
      "MNB Accuracy: 76.32%\n",
      "CNB Accuracy: 76.32%\n",
      "BNB Accuracy: 77.01%\n"
     ]
    }
   ],
   "source": [
    "tfidf = TfidfVectorizer(stop_words='english', ngram_range = (1,1),tokenizer = token.tokenize)\n",
    "text_count_2 = tfidf.fit_transform(tweet_df['Preprocessed Text'])\n",
    "\n",
    "x_train, x_test, y_train, y_test = train_test_split(text_count_2, tweet_df['Sentiment'],test_size=0.2,random_state=5)\n",
    "\n",
    "MNB = MultinomialNB()\n",
    "MNB.fit(x_train, y_train)\n",
    "predicted = MNB.predict(x_test)\n",
    "mnb_accuracy_score = metrics.accuracy_score(predicted, y_test)\n",
    "\n",
    "CNB = ComplementNB()\n",
    "CNB.fit(x_train, y_train)\n",
    "cnb_accuracy_score = metrics.accuracy_score(CNB.predict(x_test),y_test)\n",
    "\n",
    "BNB = BernoulliNB()\n",
    "BNB.fit(x_train, y_train)\n",
    "bnb_accuracy_score = metrics.accuracy_score(BNB.predict(x_test), y_test)\n",
    "\n",
    "print('Naive Bayes with Tf-idf, 1-grams, stop words:')\n",
    "print(str('MNB Accuracy: {:04.2f}'.format(mnb_accuracy_score*100))+'%')\n",
    "print(str('CNB Accuracy: {:4.2f}'.format(cnb_accuracy_score*100))+'%')\n",
    "print(str('BNB Accuracy: {:4.2f}'.format(bnb_accuracy_score*100))+'%')"
   ]
  },
  {
   "cell_type": "code",
   "execution_count": 58,
   "metadata": {},
   "outputs": [
    {
     "name": "stdout",
     "output_type": "stream",
     "text": [
      "Naive Bayes with Tf-idf, 1-grams and 2-grams:\n",
      "MNB Accuracy: 80.53%\n",
      "CNB Accuracy: 80.53%\n",
      "BNB Accuracy: 79.90%\n"
     ]
    }
   ],
   "source": [
    "tfidf = TfidfVectorizer(ngram_range = (1,2),tokenizer = token.tokenize)\n",
    "text_count_2 = tfidf.fit_transform(tweet_df['Preprocessed Text'])\n",
    "\n",
    "x_train, x_test, y_train, y_test = train_test_split(text_count_2, tweet_df['Sentiment'],test_size=0.2,random_state=5)\n",
    "\n",
    "MNB = MultinomialNB()\n",
    "MNB.fit(x_train, y_train)\n",
    "predicted = MNB.predict(x_test)\n",
    "mnb_accuracy_score = metrics.accuracy_score(predicted, y_test)\n",
    "\n",
    "CNB = ComplementNB()\n",
    "CNB.fit(x_train, y_train)\n",
    "cnb_accuracy_score = metrics.accuracy_score(CNB.predict(x_test),y_test)\n",
    "\n",
    "BNB = BernoulliNB()\n",
    "BNB.fit(x_train, y_train)\n",
    "bnb_accuracy_score = metrics.accuracy_score(BNB.predict(x_test), y_test)\n",
    "\n",
    "print('Naive Bayes with Tf-idf, 1-grams and 2-grams:')\n",
    "print(str('MNB Accuracy: {:04.2f}'.format(mnb_accuracy_score*100))+'%')\n",
    "print(str('CNB Accuracy: {:4.2f}'.format(cnb_accuracy_score*100))+'%')\n",
    "print(str('BNB Accuracy: {:4.2f}'.format(bnb_accuracy_score*100))+'%')"
   ]
  },
  {
   "cell_type": "markdown",
   "metadata": {},
   "source": [
    "#Try stemming the tweets "
   ]
  },
  {
   "cell_type": "code",
   "execution_count": 59,
   "metadata": {},
   "outputs": [],
   "source": [
    "from nltk.stem import PorterStemmer\n",
    "from nltk.tokenize import word_tokenize"
   ]
  },
  {
   "cell_type": "code",
   "execution_count": 60,
   "metadata": {},
   "outputs": [],
   "source": [
    "\n",
    "porter = PorterStemmer()\n",
    "updated_tweets = []\n",
    "\n",
    "for text in tweet_df['Preprocessed Text']:\n",
    "    tokenize_tweet = word_tokenize(text)\n",
    "    stemmed_text = []\n",
    "    for word in tokenize_tweet:\n",
    "        stemmed_text.append(porter.stem(word))\n",
    "        stemmed_text.append(\" \")\n",
    "    updated_tweets.append(\"\".join(stemmed_text))\n",
    "\n",
    "tweet_df['Stemmed Text'] = updated_tweets\n",
    "        \n",
    "    \n",
    "    "
   ]
  },
  {
   "cell_type": "code",
   "execution_count": 27,
   "metadata": {},
   "outputs": [
    {
     "name": "stdout",
     "output_type": "stream",
     "text": [
      "I wa live unsubstanti in an underground bunker smile , eat , and mastic \n"
     ]
    }
   ],
   "source": [
    "'''\n",
    "porter = PorterStemmer()\n",
    "\n",
    "test_string = \"I was living unsubstantially in an underground bunker smiling, eating, and masticating\"\n",
    "tokenize_test = word_tokenize(test_string)\n",
    "stem_test = []\n",
    "for word in tokenize_test:\n",
    "    stem_test.append(porter.stem(word))\n",
    "    stem_test.append(\" \")\n",
    "    \n",
    "print(\"\".join(stem_test))\n",
    "'''"
   ]
  },
  {
   "cell_type": "code",
   "execution_count": 63,
   "metadata": {},
   "outputs": [
    {
     "data": {
      "text/html": [
       "<div>\n",
       "<style scoped>\n",
       "    .dataframe tbody tr th:only-of-type {\n",
       "        vertical-align: middle;\n",
       "    }\n",
       "\n",
       "    .dataframe tbody tr th {\n",
       "        vertical-align: top;\n",
       "    }\n",
       "\n",
       "    .dataframe thead th {\n",
       "        text-align: right;\n",
       "    }\n",
       "</style>\n",
       "<table border=\"1\" class=\"dataframe\">\n",
       "  <thead>\n",
       "    <tr style=\"text-align: right;\">\n",
       "      <th></th>\n",
       "      <th>Sentiment</th>\n",
       "      <th>Tweet_ID</th>\n",
       "      <th>Date</th>\n",
       "      <th>Query</th>\n",
       "      <th>Handle</th>\n",
       "      <th>Text</th>\n",
       "      <th>Preprocessed Text</th>\n",
       "      <th>Stemmed Text</th>\n",
       "    </tr>\n",
       "  </thead>\n",
       "  <tbody>\n",
       "    <tr>\n",
       "      <th>0</th>\n",
       "      <td>0</td>\n",
       "      <td>1467810369</td>\n",
       "      <td>Mon Apr 06 22:19:45 PDT 2009</td>\n",
       "      <td>NO_QUERY</td>\n",
       "      <td>_TheSpecialOne_</td>\n",
       "      <td>@switchfoot http://twitpic.com/2y1zl - Awww, t...</td>\n",
       "      <td>- Awww, that's a bummer.  You shoulda got Da...</td>\n",
       "      <td>- awww , that 's a bummer . you shoulda got da...</td>\n",
       "    </tr>\n",
       "    <tr>\n",
       "      <th>1</th>\n",
       "      <td>0</td>\n",
       "      <td>1467810672</td>\n",
       "      <td>Mon Apr 06 22:19:49 PDT 2009</td>\n",
       "      <td>NO_QUERY</td>\n",
       "      <td>scotthamilton</td>\n",
       "      <td>is upset that he can't update his Facebook by ...</td>\n",
       "      <td>is upset that he can't update his Facebook by ...</td>\n",
       "      <td>is upset that he ca n't updat hi facebook by t...</td>\n",
       "    </tr>\n",
       "    <tr>\n",
       "      <th>2</th>\n",
       "      <td>0</td>\n",
       "      <td>1467810917</td>\n",
       "      <td>Mon Apr 06 22:19:53 PDT 2009</td>\n",
       "      <td>NO_QUERY</td>\n",
       "      <td>mattycus</td>\n",
       "      <td>@Kenichan I dived many times for the ball. Man...</td>\n",
       "      <td>I dived many times for the ball. Managed to s...</td>\n",
       "      <td>I dive mani time for the ball . manag to save ...</td>\n",
       "    </tr>\n",
       "    <tr>\n",
       "      <th>3</th>\n",
       "      <td>0</td>\n",
       "      <td>1467811184</td>\n",
       "      <td>Mon Apr 06 22:19:57 PDT 2009</td>\n",
       "      <td>NO_QUERY</td>\n",
       "      <td>ElleCTF</td>\n",
       "      <td>my whole body feels itchy and like its on fire</td>\n",
       "      <td>my whole body feels itchy and like its on fire</td>\n",
       "      <td>my whole bodi feel itchi and like it on fire</td>\n",
       "    </tr>\n",
       "    <tr>\n",
       "      <th>4</th>\n",
       "      <td>0</td>\n",
       "      <td>1467811193</td>\n",
       "      <td>Mon Apr 06 22:19:57 PDT 2009</td>\n",
       "      <td>NO_QUERY</td>\n",
       "      <td>Karoli</td>\n",
       "      <td>@nationwideclass no, it's not behaving at all....</td>\n",
       "      <td>no, it's not behaving at all. i'm mad. why am...</td>\n",
       "      <td>no , it 's not behav at all . i 'm mad . whi a...</td>\n",
       "    </tr>\n",
       "  </tbody>\n",
       "</table>\n",
       "</div>"
      ],
      "text/plain": [
       "   Sentiment    Tweet_ID                          Date     Query  \\\n",
       "0          0  1467810369  Mon Apr 06 22:19:45 PDT 2009  NO_QUERY   \n",
       "1          0  1467810672  Mon Apr 06 22:19:49 PDT 2009  NO_QUERY   \n",
       "2          0  1467810917  Mon Apr 06 22:19:53 PDT 2009  NO_QUERY   \n",
       "3          0  1467811184  Mon Apr 06 22:19:57 PDT 2009  NO_QUERY   \n",
       "4          0  1467811193  Mon Apr 06 22:19:57 PDT 2009  NO_QUERY   \n",
       "\n",
       "            Handle                                               Text  \\\n",
       "0  _TheSpecialOne_  @switchfoot http://twitpic.com/2y1zl - Awww, t...   \n",
       "1    scotthamilton  is upset that he can't update his Facebook by ...   \n",
       "2         mattycus  @Kenichan I dived many times for the ball. Man...   \n",
       "3          ElleCTF    my whole body feels itchy and like its on fire    \n",
       "4           Karoli  @nationwideclass no, it's not behaving at all....   \n",
       "\n",
       "                                   Preprocessed Text  \\\n",
       "0    - Awww, that's a bummer.  You shoulda got Da...   \n",
       "1  is upset that he can't update his Facebook by ...   \n",
       "2   I dived many times for the ball. Managed to s...   \n",
       "3    my whole body feels itchy and like its on fire    \n",
       "4   no, it's not behaving at all. i'm mad. why am...   \n",
       "\n",
       "                                        Stemmed Text  \n",
       "0  - awww , that 's a bummer . you shoulda got da...  \n",
       "1  is upset that he ca n't updat hi facebook by t...  \n",
       "2  I dive mani time for the ball . manag to save ...  \n",
       "3      my whole bodi feel itchi and like it on fire   \n",
       "4  no , it 's not behav at all . i 'm mad . whi a...  "
      ]
     },
     "execution_count": 63,
     "metadata": {},
     "output_type": "execute_result"
    }
   ],
   "source": [
    "tweet_df.head()"
   ]
  },
  {
   "cell_type": "code",
   "execution_count": 64,
   "metadata": {},
   "outputs": [
    {
     "data": {
      "text/plain": [
       "'I hope they will increas the capac fast , yesterday wa such a pain . got the fail whale +15 time in 2 hour .... '"
      ]
     },
     "execution_count": 64,
     "metadata": {},
     "output_type": "execute_result"
    }
   ],
   "source": [
    "tweet_df['Stemmed Text'][101]"
   ]
  },
  {
   "cell_type": "code",
   "execution_count": 65,
   "metadata": {},
   "outputs": [
    {
     "name": "stdout",
     "output_type": "stream",
     "text": [
      "Stemmed Naive Bayes:\n",
      "MNB Accuracy: 77.83%\n",
      "CNB Accuracy: 77.83%\n",
      "BNB Accuracy: 77.12%\n"
     ]
    }
   ],
   "source": [
    "cv = CountVectorizer(ngram_range = (1,1),tokenizer = token.tokenize)\n",
    "text_counts = cv.fit_transform(tweet_df['Stemmed Text'])\n",
    "\n",
    "X_train, X_test, Y_train, Y_test = train_test_split(text_counts, tweet_df['Sentiment'], test_size=0.2, random_state=5)\n",
    "\n",
    "MNB = MultinomialNB()\n",
    "MNB.fit(X_train, Y_train)\n",
    "predicted = MNB.predict(X_test)\n",
    "mnb_accuracy_score = metrics.accuracy_score(predicted, Y_test)\n",
    "\n",
    "CNB = ComplementNB()\n",
    "CNB.fit(X_train, Y_train)\n",
    "cnb_accuracy_score = metrics.accuracy_score(CNB.predict(X_test),Y_test)\n",
    "\n",
    "BNB = BernoulliNB()\n",
    "BNB.fit(X_train, Y_train)\n",
    "bnb_accuracy_score = metrics.accuracy_score(BNB.predict(X_test), Y_test)\n",
    "\n",
    "print('Stemmed Naive Bayes:')\n",
    "print(str('MNB Accuracy: {:04.2f}'.format(mnb_accuracy_score*100))+'%')\n",
    "print(str('CNB Accuracy: {:4.2f}'.format(cnb_accuracy_score*100))+'%')\n",
    "print(str('BNB Accuracy: {:4.2f}'.format(bnb_accuracy_score*100))+'%')"
   ]
  },
  {
   "cell_type": "code",
   "execution_count": 67,
   "metadata": {},
   "outputs": [
    {
     "name": "stdout",
     "output_type": "stream",
     "text": [
      "Stemmed Naive Bayes with Stopwords:\n",
      "MNB Accuracy: 76.56%\n",
      "CNB Accuracy: 76.56%\n",
      "BNB Accuracy: 76.63%\n"
     ]
    }
   ],
   "source": [
    "cv = CountVectorizer(stop_words='english', ngram_range = (1,1),tokenizer = token.tokenize)\n",
    "text_counts = cv.fit_transform(tweet_df['Stemmed Text'])\n",
    "\n",
    "X_train, X_test, Y_train, Y_test = train_test_split(text_counts, tweet_df['Sentiment'], test_size=0.2, random_state=5)\n",
    "\n",
    "MNB = MultinomialNB()\n",
    "MNB.fit(X_train, Y_train)\n",
    "predicted = MNB.predict(X_test)\n",
    "mnb_accuracy_score = metrics.accuracy_score(predicted, Y_test)\n",
    "\n",
    "CNB = ComplementNB()\n",
    "CNB.fit(X_train, Y_train)\n",
    "cnb_accuracy_score = metrics.accuracy_score(CNB.predict(X_test),Y_test)\n",
    "\n",
    "BNB = BernoulliNB()\n",
    "BNB.fit(X_train, Y_train)\n",
    "bnb_accuracy_score = metrics.accuracy_score(BNB.predict(X_test), Y_test)\n",
    "\n",
    "print('Stemmed Naive Bayes with Stopwords:')\n",
    "print(str('MNB Accuracy: {:04.2f}'.format(mnb_accuracy_score*100))+'%')\n",
    "print(str('CNB Accuracy: {:4.2f}'.format(cnb_accuracy_score*100))+'%')\n",
    "print(str('BNB Accuracy: {:4.2f}'.format(bnb_accuracy_score*100))+'%')"
   ]
  },
  {
   "cell_type": "code",
   "execution_count": 68,
   "metadata": {},
   "outputs": [
    {
     "name": "stdout",
     "output_type": "stream",
     "text": [
      "Stemmed Naive Bayes with 1-gram and 2-gram:\n",
      "MNB Accuracy: 80.11%\n",
      "CNB Accuracy: 80.11%\n",
      "BNB Accuracy: 79.54%\n"
     ]
    }
   ],
   "source": [
    "# 1-gram, 2-gram stemmed tweets\n",
    "\n",
    "cv = CountVectorizer(ngram_range = (1,2),tokenizer = token.tokenize)\n",
    "text_counts = cv.fit_transform(tweet_df['Stemmed Text'])\n",
    "\n",
    "X_train, X_test, Y_train, Y_test = train_test_split(text_counts, tweet_df['Sentiment'], test_size=0.2, random_state=5)\n",
    "\n",
    "MNB = MultinomialNB()\n",
    "MNB.fit(X_train, Y_train)\n",
    "predicted = MNB.predict(X_test)\n",
    "mnb_accuracy_score = metrics.accuracy_score(predicted, Y_test)\n",
    "\n",
    "CNB = ComplementNB()\n",
    "CNB.fit(X_train, Y_train)\n",
    "cnb_accuracy_score = metrics.accuracy_score(CNB.predict(X_test),Y_test)\n",
    "\n",
    "BNB = BernoulliNB()\n",
    "BNB.fit(X_train, Y_train)\n",
    "bnb_accuracy_score = metrics.accuracy_score(BNB.predict(X_test), Y_test)\n",
    "\n",
    "print('Stemmed Naive Bayes with 1-gram and 2-gram:')\n",
    "print(str('MNB Accuracy: {:04.2f}'.format(mnb_accuracy_score*100))+'%')\n",
    "print(str('CNB Accuracy: {:4.2f}'.format(cnb_accuracy_score*100))+'%')\n",
    "print(str('BNB Accuracy: {:4.2f}'.format(bnb_accuracy_score*100))+'%')"
   ]
  },
  {
   "cell_type": "code",
   "execution_count": 69,
   "metadata": {},
   "outputs": [
    {
     "name": "stdout",
     "output_type": "stream",
     "text": [
      "Stemmed Naive Bayes with Tf-idf, 1-grams and 2-grams:\n",
      "MNB Accuracy: 80.26%\n",
      "CNB Accuracy: 80.25%\n",
      "BNB Accuracy: 79.54%\n"
     ]
    }
   ],
   "source": [
    "tfidf = TfidfVectorizer(ngram_range = (1,2),tokenizer = token.tokenize)\n",
    "text_count_2 = tfidf.fit_transform(tweet_df['Stemmed Text'])\n",
    "\n",
    "x_train, x_test, y_train, y_test = train_test_split(text_count_2, tweet_df['Sentiment'],test_size=0.2,random_state=5)\n",
    "\n",
    "MNB = MultinomialNB()\n",
    "MNB.fit(x_train, y_train)\n",
    "predicted = MNB.predict(x_test)\n",
    "mnb_accuracy_score = metrics.accuracy_score(predicted, y_test)\n",
    "\n",
    "CNB = ComplementNB()\n",
    "CNB.fit(x_train, y_train)\n",
    "cnb_accuracy_score = metrics.accuracy_score(CNB.predict(x_test),y_test)\n",
    "\n",
    "BNB = BernoulliNB()\n",
    "BNB.fit(x_train, y_train)\n",
    "bnb_accuracy_score = metrics.accuracy_score(BNB.predict(x_test), y_test)\n",
    "\n",
    "print('Stemmed Naive Bayes with Tf-idf, 1-grams and 2-grams:')\n",
    "print(str('MNB Accuracy: {:04.2f}'.format(mnb_accuracy_score*100))+'%')\n",
    "print(str('CNB Accuracy: {:4.2f}'.format(cnb_accuracy_score*100))+'%')\n",
    "print(str('BNB Accuracy: {:4.2f}'.format(bnb_accuracy_score*100))+'%')"
   ]
  }
 ],
 "metadata": {
  "kernelspec": {
   "display_name": "Python 3",
   "language": "python",
   "name": "python3"
  },
  "language_info": {
   "codemirror_mode": {
    "name": "ipython",
    "version": 3
   },
   "file_extension": ".py",
   "mimetype": "text/x-python",
   "name": "python",
   "nbconvert_exporter": "python",
   "pygments_lexer": "ipython3",
   "version": "3.8.0"
  }
 },
 "nbformat": 4,
 "nbformat_minor": 4
}
